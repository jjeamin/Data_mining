{
 "cells": [
  {
   "cell_type": "markdown",
   "metadata": {},
   "source": [
    "# (1)Jupyter Notebook\n",
    "\n",
    " [Jupyter Notebook Documentation](https://jupyter-notebook.readthedocs.io/en/stable/)\n",
    "\n",
    " [Running code](https://jupyter-notebook.readthedocs.io/en/stable/examples/Notebook/Running%20Code.html?highlight=RUNNING%20CODE#)\n",
    "\n",
    " [Markdown](https://jupyter-notebook.readthedocs.io/en/stable/examples/Notebook/Working%20With%20Markdown%20Cells.html)\n"
   ]
  },
  {
   "cell_type": "markdown",
   "metadata": {},
   "source": [
    "# (2)Python Examples\n",
    "\n",
    "Python Docs(https://docs.python.org/3/index.html)\n"
   ]
  },
  {
   "cell_type": "code",
   "execution_count": 38,
   "metadata": {},
   "outputs": [
    {
     "name": "stdout",
     "output_type": "stream",
     "text": [
      "Hello Jini\n",
      "hello jini\n",
      "Hello GilDong\n",
      "HELLO  GILDONG\n",
      "0 1 2 3 4 \n",
      "1 3 5 7 9 \n",
      "dog\tcat\tbird\t\n",
      "[170, 164.8, 183.1]\n",
      "[0, 1, 2]\n",
      "[[170, 164.8, 183.1], [0, 1, 2]]\n"
     ]
    }
   ],
   "source": [
    "#################################\n",
    "# python 기초 (함수, for문, 배열)\n",
    "#################################\n",
    "# 함수정의\n",
    "# hello 함수, 매개변수 2개(name, upper), upper 매개변수의 디폴트값 False \n",
    "def hello(name, upper=False):\n",
    "    print ('Hello', name)  #전달된 name 그대로 출력\n",
    "    if upper:\n",
    "        print ('HELLO ',name.upper())  #upper 가 True이면 대문자로 변환하여 출력\n",
    "    else:\n",
    "        print ('hello ' + name.lower()) #upper 가 False이면 소문자로 변환하여 출력\n",
    "\n",
    "hello('Jini')           #함수호출\n",
    "hello('GilDong', True)  #함수호출\n",
    "\n",
    "#for문\n",
    "for i in range(5): #연속값 0~4\n",
    "    print(i, end=' ') #출력 마지막이 공백\n",
    "print()\n",
    "\n",
    "for i in range(1,10,2): #초기값1, 최종값10, 증가값 2\n",
    "    print(i, end=' ')\n",
    "print()\n",
    "\n",
    "#list로 배열 표현\n",
    "animals = ['dog','cat', 'bird'] \n",
    "for animal in animals:  #배열요소를 하나씩 접근\n",
    "    print (animal, end='\\t')\n",
    "print()\n",
    "\n",
    "t1=170\n",
    "t2=164.8\n",
    "t3=183.1\n",
    "t = [t1,t2,t3]  #변수로 리스트 생성\n",
    "print (t)\n",
    "\n",
    "r = list(range(3)) #range()로 리스트 생성\n",
    "print (r)\n",
    "\n",
    "a2=[t,r]  #1차원 배열로 2차원 배열 생성\n",
    "print (a2)\n",
    "\n"
   ]
  },
  {
   "cell_type": "markdown",
   "metadata": {},
   "source": [
    "# 인터프리터형 언어"
   ]
  }
 ],
 "metadata": {
  "kernelspec": {
   "display_name": "Python 3",
   "language": "python",
   "name": "python3"
  },
  "language_info": {
   "codemirror_mode": {
    "name": "ipython",
    "version": 3
   },
   "file_extension": ".py",
   "mimetype": "text/x-python",
   "name": "python",
   "nbconvert_exporter": "python",
   "pygments_lexer": "ipython3",
   "version": "3.5.3"
  }
 },
 "nbformat": 4,
 "nbformat_minor": 2
}
