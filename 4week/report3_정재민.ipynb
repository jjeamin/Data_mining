{
 "cells": [
  {
   "cell_type": "markdown",
   "metadata": {},
   "source": [
    "## 아래문제를 해결하여 제출 (report3_성명)\n",
    "- 5명의 id,pwd(문자열),age(정수형),sex(범주형)를 저장할 수 있는 dataframe 생성\n",
    "- Series의dict이용하여 생성\n",
    "- indx : id\n",
    "- column : pwd,age,sex\n",
    "\n",
    "\n",
    "## 1에서 생성된 데이터프레임을 이용하여 선택 및 추출 처리\n",
    "- (1)특정 id, 특정 pwd 추출\n",
    "- (2)상위 3명만 추출 (loc, iloc 사용)\n",
    "- (3)나이와 성별만 추출\n",
    "- (4)나이가 20대만 추출\n",
    "- (5)성별이 male(남)인 경우만 추출\n",
    "- (6)나이가 30미만인 여성만 추출 "
   ]
  },
  {
   "cell_type": "markdown",
   "metadata": {},
   "source": [
    "# DataFrame 생성\n",
    "- 5명의 id,pwd(문자열),age(정수형),sex(범주형)를 저장할 수 있는 dataframe 생성\n",
    "- Series의dict이용하여 생성\n",
    "- indx : id\n",
    "- column : pwd,age,sex"
   ]
  },
  {
   "cell_type": "markdown",
   "metadata": {},
   "source": [
    "---"
   ]
  },
  {
   "cell_type": "code",
   "execution_count": 140,
   "metadata": {},
   "outputs": [],
   "source": [
    "import numpy as np\n",
    "import pandas as pd\n",
    "from IPython.display import display"
   ]
  },
  {
   "cell_type": "code",
   "execution_count": 141,
   "metadata": {},
   "outputs": [
    {
     "data": {
      "text/html": [
       "<div>\n",
       "<style scoped>\n",
       "    .dataframe tbody tr th:only-of-type {\n",
       "        vertical-align: middle;\n",
       "    }\n",
       "\n",
       "    .dataframe tbody tr th {\n",
       "        vertical-align: top;\n",
       "    }\n",
       "\n",
       "    .dataframe thead th {\n",
       "        text-align: right;\n",
       "    }\n",
       "</style>\n",
       "<table border=\"1\" class=\"dataframe\">\n",
       "  <thead>\n",
       "    <tr style=\"text-align: right;\">\n",
       "      <th></th>\n",
       "      <th>pwd</th>\n",
       "      <th>age</th>\n",
       "      <th>sex</th>\n",
       "    </tr>\n",
       "  </thead>\n",
       "  <tbody>\n",
       "    <tr>\n",
       "      <th>zoom1012</th>\n",
       "      <td>1234</td>\n",
       "      <td>25</td>\n",
       "      <td>male</td>\n",
       "    </tr>\n",
       "    <tr>\n",
       "      <th>woals123</th>\n",
       "      <td>k444</td>\n",
       "      <td>15</td>\n",
       "      <td>female</td>\n",
       "    </tr>\n",
       "    <tr>\n",
       "      <th>korea123</th>\n",
       "      <td>l293d</td>\n",
       "      <td>30</td>\n",
       "      <td>male</td>\n",
       "    </tr>\n",
       "    <tr>\n",
       "      <th>lsdlsd</th>\n",
       "      <td>jjm</td>\n",
       "      <td>29</td>\n",
       "      <td>female</td>\n",
       "    </tr>\n",
       "    <tr>\n",
       "      <th>ksmena</th>\n",
       "      <td>pass</td>\n",
       "      <td>32</td>\n",
       "      <td>male</td>\n",
       "    </tr>\n",
       "  </tbody>\n",
       "</table>\n",
       "</div>"
      ],
      "text/plain": [
       "            pwd  age     sex\n",
       "zoom1012   1234   25    male\n",
       "woals123   k444   15  female\n",
       "korea123  l293d   30    male\n",
       "lsdlsd      jjm   29  female\n",
       "ksmena     pass   32    male"
      ]
     },
     "metadata": {},
     "output_type": "display_data"
    },
    {
     "name": "stdout",
     "output_type": "stream",
     "text": [
      "type :  pwd      object\n",
      "age       int32\n",
      "sex    category\n",
      "dtype: object\n"
     ]
    }
   ],
   "source": [
    "index = ['zoom1012','woals123','korea123','lsdlsd','ksmena']\n",
    "d = {'pwd' : pd.Series([\"1234\",\"k444\",\"l293d\",\"jjm\",\"pass\"],index=index,dtype=\"object\"),\n",
    "    'age' : pd.Series([25,15,30,29,32],index=index,dtype='int32'),\n",
    "    'sex' : pd.Categorical([\"male\",\"female\",\"male\",\"female\",\"male\"])}\n",
    "\n",
    "df = pd.DataFrame(d)\n",
    "display(df)\n",
    "\n",
    "print(\"type : \",df.dtypes)"
   ]
  },
  {
   "cell_type": "markdown",
   "metadata": {},
   "source": [
    "# 1) 특정 id, 특정 pwd 추출"
   ]
  },
  {
   "cell_type": "code",
   "execution_count": 142,
   "metadata": {},
   "outputs": [
    {
     "name": "stdout",
     "output_type": "stream",
     "text": [
      "id[0] :  zoom1012\n",
      "id[1] :  woals123\n",
      "id[2] :  korea123\n",
      "id[3] :  lsdlsd\n",
      "id[4] :  ksmena\n",
      "\n",
      "pwd[0] =  1234\n",
      "\n",
      "pwd[1] =  k444\n",
      "\n",
      "pwd[2] =  l293d\n",
      "\n",
      "pwd[3] =  jjm\n",
      "\n",
      "pwd[4] =  pass\n"
     ]
    }
   ],
   "source": [
    "print(\"id[0] : \",df.index[0])\n",
    "print(\"id[1] : \",df.index[1])\n",
    "print(\"id[2] : \",df.index[2])\n",
    "print(\"id[3] : \",df.index[3])\n",
    "print(\"id[4] : \",df.index[4])\n",
    "\n",
    "print(\"\\npwd[0] = \",df['pwd']['zoom1012'])\n",
    "print(\"\\npwd[1] = \",df['pwd']['woals123'])\n",
    "print(\"\\npwd[2] = \",df['pwd'][2])\n",
    "print(\"\\npwd[3] = \",df['pwd'][3])\n",
    "print(\"\\npwd[4] = \",df['pwd'][4])"
   ]
  },
  {
   "cell_type": "markdown",
   "metadata": {},
   "source": [
    "# 2)상위 3명만 추출 (loc, iloc 사용)"
   ]
  },
  {
   "cell_type": "code",
   "execution_count": 143,
   "metadata": {},
   "outputs": [
    {
     "name": "stdout",
     "output_type": "stream",
     "text": [
      "df[0:3]\n",
      "             pwd  age     sex\n",
      "zoom1012   1234   25    male\n",
      "woals123   k444   15  female\n",
      "korea123  l293d   30    male\n"
     ]
    },
    {
     "data": {
      "text/html": [
       "<div>\n",
       "<style scoped>\n",
       "    .dataframe tbody tr th:only-of-type {\n",
       "        vertical-align: middle;\n",
       "    }\n",
       "\n",
       "    .dataframe tbody tr th {\n",
       "        vertical-align: top;\n",
       "    }\n",
       "\n",
       "    .dataframe thead th {\n",
       "        text-align: right;\n",
       "    }\n",
       "</style>\n",
       "<table border=\"1\" class=\"dataframe\">\n",
       "  <thead>\n",
       "    <tr style=\"text-align: right;\">\n",
       "      <th></th>\n",
       "      <th>pwd</th>\n",
       "      <th>age</th>\n",
       "      <th>sex</th>\n",
       "    </tr>\n",
       "  </thead>\n",
       "  <tbody>\n",
       "    <tr>\n",
       "      <th>zoom1012</th>\n",
       "      <td>1234</td>\n",
       "      <td>25</td>\n",
       "      <td>male</td>\n",
       "    </tr>\n",
       "    <tr>\n",
       "      <th>woals123</th>\n",
       "      <td>k444</td>\n",
       "      <td>15</td>\n",
       "      <td>female</td>\n",
       "    </tr>\n",
       "    <tr>\n",
       "      <th>korea123</th>\n",
       "      <td>l293d</td>\n",
       "      <td>30</td>\n",
       "      <td>male</td>\n",
       "    </tr>\n",
       "  </tbody>\n",
       "</table>\n",
       "</div>"
      ],
      "text/plain": [
       "            pwd  age     sex\n",
       "zoom1012   1234   25    male\n",
       "woals123   k444   15  female\n",
       "korea123  l293d   30    male"
      ]
     },
     "metadata": {},
     "output_type": "display_data"
    }
   ],
   "source": [
    "print(\"df[0:3]\\n\",df.iloc[0:3])\n",
    "\n",
    "display(df.iloc[0:3])"
   ]
  },
  {
   "cell_type": "markdown",
   "metadata": {},
   "source": [
    "# 3)나이와 성별만 추출"
   ]
  },
  {
   "cell_type": "code",
   "execution_count": 144,
   "metadata": {},
   "outputs": [
    {
     "name": "stdout",
     "output_type": "stream",
     "text": [
      "나이 추출 : \n",
      " zoom1012    25\n",
      "woals123    15\n",
      "korea123    30\n",
      "lsdlsd      29\n",
      "ksmena      32\n",
      "Name: age, dtype: int32\n",
      "\n",
      "성별 추출 : \n",
      " zoom1012      male\n",
      "woals123    female\n",
      "korea123      male\n",
      "lsdlsd      female\n",
      "ksmena        male\n",
      "Name: sex, dtype: category\n",
      "Categories (2, object): [female, male]\n"
     ]
    }
   ],
   "source": [
    "print(\"나이 추출 : \\n\",df['age'])\n",
    "\n",
    "print(\"\\n성별 추출 : \\n\",df['sex'])"
   ]
  },
  {
   "cell_type": "markdown",
   "metadata": {},
   "source": [
    "# 4)나이가 20대만 추출"
   ]
  },
  {
   "cell_type": "code",
   "execution_count": 145,
   "metadata": {},
   "outputs": [
    {
     "name": "stdout",
     "output_type": "stream",
     "text": [
      "           pwd  age     sex\n",
      "zoom1012  1234   25    male\n",
      "lsdlsd     jjm   29  female\n"
     ]
    }
   ],
   "source": [
    "m = (df.age < 30) & (df.age >= 20)\n",
    "\n",
    "print(df[m])"
   ]
  },
  {
   "cell_type": "markdown",
   "metadata": {},
   "source": [
    "# 5)성별이 male(남)인 경우만 추출"
   ]
  },
  {
   "cell_type": "code",
   "execution_count": 146,
   "metadata": {},
   "outputs": [
    {
     "name": "stdout",
     "output_type": "stream",
     "text": [
      "            pwd  age   sex\n",
      "zoom1012   1234   25  male\n",
      "korea123  l293d   30  male\n",
      "ksmena     pass   32  male\n"
     ]
    }
   ],
   "source": [
    "print(df[df.sex == 'male'])"
   ]
  },
  {
   "cell_type": "markdown",
   "metadata": {},
   "source": [
    "# 6)나이가 30미만인 여성만 추출 "
   ]
  },
  {
   "cell_type": "code",
   "execution_count": 147,
   "metadata": {},
   "outputs": [
    {
     "name": "stdout",
     "output_type": "stream",
     "text": [
      "           pwd  age     sex\n",
      "woals123  k444   15  female\n",
      "lsdlsd     jjm   29  female\n"
     ]
    }
   ],
   "source": [
    "m = (df.sex == 'female') & (df.age < 30)\n",
    "\n",
    "print(df[m])"
   ]
  },
  {
   "cell_type": "code",
   "execution_count": null,
   "metadata": {},
   "outputs": [],
   "source": []
  }
 ],
 "metadata": {
  "kernelspec": {
   "display_name": "Python 3",
   "language": "python",
   "name": "python3"
  },
  "language_info": {
   "codemirror_mode": {
    "name": "ipython",
    "version": 3
   },
   "file_extension": ".py",
   "mimetype": "text/x-python",
   "name": "python",
   "nbconvert_exporter": "python",
   "pygments_lexer": "ipython3",
   "version": "3.7.1"
  }
 },
 "nbformat": 4,
 "nbformat_minor": 2
}
