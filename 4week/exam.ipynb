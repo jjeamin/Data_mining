{
 "cells": [
  {
   "cell_type": "code",
   "execution_count": null,
   "metadata": {},
   "outputs": [],
   "source": [
    "import numpy as np\n",
    "import pandas as pd\n",
    "from IPython.display import display"
   ]
  },
  {
   "cell_type": "code",
   "execution_count": null,
   "metadata": {},
   "outputs": [],
   "source": [
    "s1 = pd.Series(np.random.randn(5))\n",
    "s2 = pd.Series(np.random.randn(5), index=['a','b','c','d','e'])\n",
    "\n",
    "d = {'b':1,'a':0,'c':2}\n",
    "s3 = pd.Series(d)\n",
    "\n",
    "s4 = pd.Series(5, index=['a','b','c','d','e'])\n",
    "\n",
    "print('s1 = ',s1)\n",
    "print('s2 = ',s2)\n",
    "print('s3 = ',s3)\n",
    "print('s4 = ',s4)\n",
    "\n",
    "print('s1.ndim = ',s1.ndim)\n",
    "print('s1.shape = ',s1.shape)\n",
    "print('s1.dtype = ',s1.dtype)"
   ]
  },
  {
   "cell_type": "code",
   "execution_count": null,
   "metadata": {},
   "outputs": [],
   "source": [
    "print('s1[0]] = ',s1[0])\n",
    "print('s1[:2]] = ',s1[:2])\n",
    "print('s1[2:4:2]] = ',s1[2:4:2])\n",
    "print('s1[3:]] = ',s1[3:])\n",
    "print('s1[s1 > s1.median()]] = ',s1[s1 > s1.median()])\n",
    "print('s3 + 2 = ',s3 + 2)\n",
    "print('s3 + s4 = ',s1[0])\n",
    "print('s3.sum = ',s1[0])\n",
    "\n",
    "print(\"s2['a'] = \",s2['a'])\n",
    "print(\"s2.get['a'] = \",s2.get('a'))\n",
    "print(\"d in s2 = \",'d' in s2)"
   ]
  },
  {
   "cell_type": "code",
   "execution_count": null,
   "metadata": {},
   "outputs": [],
   "source": [
    "data = np.floor(np.random.randn(7,3) + 10)\n",
    "idx = np.arange(7) + 1\n",
    "col = list('ABC')\n",
    "df1 = pd.DataFrame(data, index=idx,columns=col)\n",
    "display(df1)\n",
    "\n",
    "dates = pd.date_range('20190401', periods=7)\n",
    "df2 = pd.DataFrame(data)\n",
    "df2.index = dates\n",
    "df2.columns = col\n",
    "display(df2)\n",
    "\n",
    "d = {'one':[1.,2.,3.,4.],\n",
    "     'two':[4.,3.,2.,1.]}\n",
    "df3 = pd.DataFrame(d)\n",
    "df4 = pd.DataFrame(d, index=['a','b','c','d'])\n",
    "display(df3)\n",
    "display(df4)d2 = {'one':pd.Series([1.,2.,3.], index=['a','b','c']),\n",
    "     'two':pd.Series([1.,2.,3.,4.], index=['a','b','c','d'])}\n",
    "df5 = pd.DataFrame(d2)\n",
    "print(\"df5.dtypes = \", df5.dtypes)\n",
    "display(df5)\n",
    "\n",
    "data = np.zeros((2, ), dtype=[('A','i4'),('B','f4'),('C','a10')])\n",
    "data[:] = [(1,2.,'Hello'),(2,3.,\"World\")]\n",
    "df6 = pd.DataFrame(data)\n",
    "display(df6)\n",
    "\n",
    "df7 = pd.DataFrame({'A':1.,\n",
    "                        'B': pd.Timestamp('20190401'),\n",
    "                        'C': pd.Series(1, index=list(range(4)),dtype='float32'),\n",
    "                        'D': np.array([3]*4, dtype='int32'),\n",
    "                        'E': pd.Categorical([\"test\",\"train\",\"test\",\"train\"]),\n",
    "                        'F': 'foo'})\n",
    "display(df7)"
   ]
  },
  {
   "cell_type": "code",
   "execution_count": null,
   "metadata": {},
   "outputs": [],
   "source": [
    "data = np.floor(np.random.randn(8,3) * 10)\n",
    "col = list('XYZ')\n",
    "dates = pd.date_range('20190301',periods=8)\n",
    "df = pd.DataFrame(data,index=dates,columns=col)\n",
    "display(df)\n",
    "\n",
    "print(\"df=\",df)\n",
    "print(\"df.head()=\", df.head())\n",
    "print(\"df.tail(3)=\",df.tail(3))\n",
    "\n",
    "print(\"df.dtypes=\",df.dtypes)\n",
    "print(\"df.index=\", df.index)\n",
    "print(\"df.columns=\",df.columns)"
   ]
  },
  {
   "cell_type": "code",
   "execution_count": null,
   "metadata": {},
   "outputs": [],
   "source": [
    "df.describe()\n",
    "\n",
    "dfsi = df.sort_index(axis=0,ascending=False)\n",
    "display(dfsi)\n",
    "\n",
    "dfvy = df.sort_values(by='Y')\n",
    "display(dfvy)"
   ]
  }
 ],
 "metadata": {
  "kernelspec": {
   "display_name": "Python 3",
   "language": "python",
   "name": "python3"
  },
  "language_info": {
   "codemirror_mode": {
    "name": "ipython",
    "version": 3
   },
   "file_extension": ".py",
   "mimetype": "text/x-python",
   "name": "python",
   "nbconvert_exporter": "python",
   "pygments_lexer": "ipython3",
   "version": "3.7.1"
  }
 },
 "nbformat": 4,
 "nbformat_minor": 2
}
