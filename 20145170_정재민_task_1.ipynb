{
 "cells": [
  {
   "cell_type": "markdown",
   "metadata": {},
   "source": [
    "# 실습\n",
    "다음 문제를 해결하는 파이선 코드를 포함하는 노트북 파일을 작성하여 제출\n",
    "마크다운셀에 문제정의 포함\n",
    "\n",
    "1. 10개의 연속값이 저장되는 배열(2의 배수)을 생성하여 배열의 최대값, 평균을 구하는 함수를 정의하여 결과 확인\n",
    "\n",
    "## create_list\n",
    "- num : 개수\n",
    "- step: 배수\n",
    "- 리스트를 생성하기\n",
    "\n",
    "## max_list\n",
    "- 최대값 반환\n",
    "\n",
    "## mean_list\n",
    "- 평균 반환"
   ]
  },
  {
   "cell_type": "code",
   "execution_count": 1,
   "metadata": {},
   "outputs": [],
   "source": [
    "def create_list(num,step):\n",
    "    arr = []\n",
    "    for i in range(step,(num+1)*step,step):\n",
    "        arr.append(i)\n",
    "        \n",
    "    return arr\n",
    "\n",
    "def max_list(arr):\n",
    "    return max(arr)\n",
    "\n",
    "def mean_list(arr):\n",
    "    return sum(arr)/len(arr)"
   ]
  },
  {
   "cell_type": "code",
   "execution_count": 2,
   "metadata": {},
   "outputs": [
    {
     "name": "stdout",
     "output_type": "stream",
     "text": [
      "Arr : \n",
      "[2, 4, 6, 8, 10, 12, 14, 16, 18, 20]\n",
      "Max : \n",
      "20\n",
      "Average : \n",
      "11.0\n"
     ]
    }
   ],
   "source": [
    "arr = create_list(10,2)\n",
    "print(\"Arr : \")\n",
    "print(arr)\n",
    "print(\"Max : \")\n",
    "print(max_list(arr))\n",
    "print(\"Average : \")\n",
    "print(mean_list(arr))"
   ]
  },
  {
   "cell_type": "markdown",
   "metadata": {},
   "source": [
    "2. 5명의 국,영,수 점수를 2차원 배열로  생성하여 과목별 평균, 학생별 평균을 배열에 저장하여 출력\n",
    "\n",
    "## mean_list\n",
    "- 평균 구하기 1번 문제에서 만든 함수 이용\n",
    "\n",
    "## class_mean\n",
    "- 각 열을 합해서 평균 : 과목당 평균\n",
    "\n",
    "## student_mean\n",
    "- 각 행을 합해서 평균 : 학생당 평균"
   ]
  },
  {
   "cell_type": "code",
   "execution_count": 3,
   "metadata": {},
   "outputs": [],
   "source": [
    "def mean_list(arr):\n",
    "    return sum(arr)/len(arr)\n",
    "\n",
    "def class_mean(students,class_num):\n",
    "    c_mean = []\n",
    "    for i in range(class_num):\n",
    "        buf = 0\n",
    "        for student in students:\n",
    "            buf += student[i]\n",
    "        c_mean.append(buf/class_num)\n",
    "    \n",
    "    return c_mean\n",
    "\n",
    "def student_mean(students):\n",
    "    s_means = []\n",
    "    for student in students:\n",
    "        s_means.append(mean_list(student))\n",
    "        \n",
    "    return s_means"
   ]
  },
  {
   "cell_type": "code",
   "execution_count": 4,
   "metadata": {},
   "outputs": [
    {
     "name": "stdout",
     "output_type": "stream",
     "text": [
      "student score\n",
      "[[32, 46, 54], [43, 56, 47], [15, 36, 77], [57, 88, 67], [57, 78, 89]]\n",
      "class average\n",
      "[68.0, 101.33333333333333, 111.33333333333333]\n",
      "student average\n",
      "[44.0, 48.666666666666664, 42.666666666666664, 70.66666666666667, 74.66666666666667]\n"
     ]
    }
   ],
   "source": [
    "students = [[32,46,54],[43,56,47],[15,36,77],[57,88,67],[57,78,89]]\n",
    "\n",
    "print(\"student score\")\n",
    "print(students)\n",
    "print(\"class average\")\n",
    "print(class_mean(students,3))\n",
    "print(\"student average\")\n",
    "print(student_mean(students))"
   ]
  },
  {
   "cell_type": "code",
   "execution_count": null,
   "metadata": {},
   "outputs": [],
   "source": []
  }
 ],
 "metadata": {
  "kernelspec": {
   "display_name": "py35",
   "language": "python",
   "name": "py35"
  },
  "language_info": {
   "codemirror_mode": {
    "name": "ipython",
    "version": 3
   },
   "file_extension": ".py",
   "mimetype": "text/x-python",
   "name": "python",
   "nbconvert_exporter": "python",
   "pygments_lexer": "ipython3",
   "version": "3.5.3"
  }
 },
 "nbformat": 4,
 "nbformat_minor": 2
}
