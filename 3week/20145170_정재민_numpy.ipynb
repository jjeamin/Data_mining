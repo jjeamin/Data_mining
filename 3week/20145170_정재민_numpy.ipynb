{
 "cells": [
  {
   "cell_type": "code",
   "execution_count": 3,
   "metadata": {},
   "outputs": [],
   "source": [
    "import numpy as np"
   ]
  },
  {
   "cell_type": "markdown",
   "metadata": {},
   "source": [
    "# 1. 배열 생성,연습"
   ]
  },
  {
   "cell_type": "code",
   "execution_count": 26,
   "metadata": {},
   "outputs": [
    {
     "name": "stdout",
     "output_type": "stream",
     "text": [
      "[ 2  4  6  8 10 12 14 16 18 20 22 24]\n"
     ]
    }
   ],
   "source": [
    "a = np.arange(2,25,2)\n",
    "print(a)"
   ]
  },
  {
   "cell_type": "code",
   "execution_count": 7,
   "metadata": {},
   "outputs": [
    {
     "name": "stdout",
     "output_type": "stream",
     "text": [
      "[  1   3 -20 -20 -20  11  13  15  17  19  21  23]\n"
     ]
    }
   ],
   "source": [
    "a[2:5] = -20\n",
    "print(a)"
   ]
  },
  {
   "cell_type": "code",
   "execution_count": 9,
   "metadata": {},
   "outputs": [
    {
     "name": "stdout",
     "output_type": "stream",
     "text": [
      "[[  1   3 -20 -20]\n",
      " [-20  11  13  15]\n",
      " [ 17  19  21  23]]\n"
     ]
    }
   ],
   "source": [
    "b = a.reshape(3,4)\n",
    "print(b)"
   ]
  },
  {
   "cell_type": "code",
   "execution_count": 12,
   "metadata": {},
   "outputs": [
    {
     "name": "stdout",
     "output_type": "stream",
     "text": [
      "[[  1   3 -20 -20 -20  11]\n",
      " [ 13  15  17  19  21  23]]\n"
     ]
    }
   ],
   "source": [
    "a = a.reshape(2,6)\n",
    "print(c)"
   ]
  },
  {
   "cell_type": "code",
   "execution_count": 22,
   "metadata": {},
   "outputs": [
    {
     "name": "stdout",
     "output_type": "stream",
     "text": [
      "[  1   3 -20 -20 -20  11]\n"
     ]
    }
   ],
   "source": [
    "a1 = a[0]\n",
    "print(a1)"
   ]
  },
  {
   "cell_type": "code",
   "execution_count": 26,
   "metadata": {},
   "outputs": [
    {
     "name": "stdout",
     "output_type": "stream",
     "text": [
      "[0 0 0 0 0 0]\n"
     ]
    }
   ],
   "source": [
    "a1[...] = 0\n",
    "print(a1)"
   ]
  },
  {
   "cell_type": "markdown",
   "metadata": {},
   "source": [
    "# 2.배열 연산, 함수 연습"
   ]
  },
  {
   "cell_type": "markdown",
   "metadata": {},
   "source": [
    "## 1) 난수 생성"
   ]
  },
  {
   "cell_type": "code",
   "execution_count": 66,
   "metadata": {},
   "outputs": [],
   "source": [
    "x = np.round(10 * np.random.random((3,3)))\n",
    "y = np.round(10 * np.random.random((3,3)))"
   ]
  },
  {
   "cell_type": "code",
   "execution_count": 67,
   "metadata": {},
   "outputs": [
    {
     "name": "stdout",
     "output_type": "stream",
     "text": [
      "x : \n",
      " [[4. 6. 2.]\n",
      " [3. 4. 4.]\n",
      " [8. 6. 1.]]\n",
      "\n",
      "y : \n",
      " [[ 2.  4.  6.]\n",
      " [ 5.  1.  6.]\n",
      " [10.  3.  6.]]\n"
     ]
    }
   ],
   "source": [
    "print(\"x : \\n\",x)\n",
    "print(\"\\ny : \\n\", y)"
   ]
  },
  {
   "cell_type": "markdown",
   "metadata": {},
   "source": [
    "## 2) x의 1행 2행 출력"
   ]
  },
  {
   "cell_type": "code",
   "execution_count": 68,
   "metadata": {},
   "outputs": [
    {
     "name": "stdout",
     "output_type": "stream",
     "text": [
      "x의 1행 :  [3. 4. 4.]\n",
      "x의 2행 :  [8. 6. 1.]\n"
     ]
    }
   ],
   "source": [
    "print(\"x의 1행 : \",x[1])\n",
    "print(\"x의 2행 : \",x[2])"
   ]
  },
  {
   "cell_type": "markdown",
   "metadata": {},
   "source": [
    "## 3) x의 2열 출력"
   ]
  },
  {
   "cell_type": "code",
   "execution_count": 69,
   "metadata": {},
   "outputs": [
    {
     "name": "stdout",
     "output_type": "stream",
     "text": [
      "x의 2열 :  [2. 4. 1.]\n"
     ]
    }
   ],
   "source": [
    "print(\"x의 2열 : \",x[:,2])"
   ]
  },
  {
   "cell_type": "markdown",
   "metadata": {},
   "source": [
    "## 4) x의 0열 1행,2행 출력"
   ]
  },
  {
   "cell_type": "code",
   "execution_count": 70,
   "metadata": {},
   "outputs": [
    {
     "name": "stdout",
     "output_type": "stream",
     "text": [
      "x의 0열의 1,2행 추출 :  [3. 8.]\n"
     ]
    }
   ],
   "source": [
    "print(\"x의 0열의 1,2행 추출 : \",x[1:,0])"
   ]
  },
  {
   "cell_type": "markdown",
   "metadata": {},
   "source": [
    "## 5) x의 1열 1행,2행 출력"
   ]
  },
  {
   "cell_type": "code",
   "execution_count": 71,
   "metadata": {},
   "outputs": [
    {
     "name": "stdout",
     "output_type": "stream",
     "text": [
      "x의 1열의 1,2행 추출 :  [4. 6.]\n"
     ]
    }
   ],
   "source": [
    "print(\"x의 1열의 1,2행 추출 : \",x[1:,1])"
   ]
  },
  {
   "cell_type": "markdown",
   "metadata": {},
   "source": [
    "## 6) x의 각 행의 합 출력"
   ]
  },
  {
   "cell_type": "code",
   "execution_count": 72,
   "metadata": {},
   "outputs": [
    {
     "name": "stdout",
     "output_type": "stream",
     "text": [
      "x의 각 행의 합\n",
      "0 행 :  12.0\n",
      "1 행 :  11.0\n",
      "2 행 :  15.0\n"
     ]
    }
   ],
   "source": [
    "print(\"x의 각 행의 합\")\n",
    "print(\"0 행 : \",np.sum(x[0]))\n",
    "print(\"1 행 : \",np.sum(x[1]))\n",
    "print(\"2 행 : \",np.sum(x[2]))"
   ]
  },
  {
   "cell_type": "markdown",
   "metadata": {},
   "source": [
    "## 7) x의 각 열의 합 출력"
   ]
  },
  {
   "cell_type": "code",
   "execution_count": 73,
   "metadata": {},
   "outputs": [
    {
     "name": "stdout",
     "output_type": "stream",
     "text": [
      "x의 각 열의 합\n",
      "0 열 :  15.0\n",
      "1 열 :  16.0\n",
      "2 열 :  7.0\n"
     ]
    }
   ],
   "source": [
    "print(\"x의 각 열의 합\")\n",
    "print(\"0 열 : \",np.sum(x[:,0]))\n",
    "print(\"1 열 : \",np.sum(x[:,1]))\n",
    "print(\"2 열 : \",np.sum(x[:,2]))"
   ]
  },
  {
   "cell_type": "markdown",
   "metadata": {},
   "source": [
    "## 7) x의 각 열,행의 최대값 출력"
   ]
  },
  {
   "cell_type": "code",
   "execution_count": 74,
   "metadata": {},
   "outputs": [
    {
     "name": "stdout",
     "output_type": "stream",
     "text": [
      "x의 각행의 최대값, 각 열의 최대값, 출력\n",
      "0 행 :  6.0\n",
      "1 행 :  4.0\n",
      "2 행 :  8.0\n",
      "0 열 :  8.0\n",
      "1 열 :  6.0\n",
      "2 열 :  4.0\n"
     ]
    }
   ],
   "source": [
    "print(\"x의 각행의 최대값, 각 열의 최대값, 출력\")\n",
    "print(\"0 행 : \",np.max(x[0]))\n",
    "print(\"1 행 : \",np.max(x[1]))\n",
    "print(\"2 행 : \",np.max(x[2]))\n",
    "print(\"0 열 : \",np.max(x[:,0]))\n",
    "print(\"1 열 : \",np.max(x[:,1]))\n",
    "print(\"2 열 : \",np.max(x[:,2]))"
   ]
  },
  {
   "cell_type": "markdown",
   "metadata": {},
   "source": [
    "## 8) x와y의 합,곱,내적 출력"
   ]
  },
  {
   "cell_type": "code",
   "execution_count": 76,
   "metadata": {},
   "outputs": [
    {
     "name": "stdout",
     "output_type": "stream",
     "text": [
      "합 : \n",
      " [[ 6. 10.  8.]\n",
      " [ 8.  5. 10.]\n",
      " [18.  9.  7.]]\n",
      "\n",
      "곱 : \n",
      " [[ 8. 24. 12.]\n",
      " [15.  4. 24.]\n",
      " [80. 18.  6.]]\n",
      "\n",
      "내적 : \n",
      " [[58. 28. 72.]\n",
      " [66. 28. 66.]\n",
      " [56. 41. 90.]]\n"
     ]
    }
   ],
   "source": [
    "mat_sum = x + y\n",
    "mat_mul = x * y\n",
    "mat_inner = np.matmul(x,y)\n",
    "\n",
    "\n",
    "print(\"합 : \\n\",mat_sum)\n",
    "print(\"\\n곱 : \\n\",mat_mul)\n",
    "print(\"\\n내적 : \\n\",mat_inner)"
   ]
  },
  {
   "cell_type": "markdown",
   "metadata": {},
   "source": [
    "# 3.배열 복사, 결합 연습"
   ]
  },
  {
   "cell_type": "markdown",
   "metadata": {},
   "source": [
    "## 1) 1차원 배열 3개를 생성,행으로 결합해 y배열 생성"
   ]
  },
  {
   "cell_type": "code",
   "execution_count": 4,
   "metadata": {},
   "outputs": [],
   "source": [
    "a1 = np.arange(1,4)\n",
    "a2 = np.arange(10,31,10)\n",
    "a3 = np.arange(100,301,100)"
   ]
  },
  {
   "cell_type": "code",
   "execution_count": 5,
   "metadata": {},
   "outputs": [
    {
     "name": "stdout",
     "output_type": "stream",
     "text": [
      "[[  1   2   3]\n",
      " [ 10  20  30]\n",
      " [100 200 300]]\n"
     ]
    }
   ],
   "source": [
    "y = np.vstack([a1,a2,a3])\n",
    "print(y)"
   ]
  },
  {
   "cell_type": "markdown",
   "metadata": {},
   "source": [
    "## 2) y배열의 0,2열을 복사하여 y1, 1열을 복사하여 y2생성"
   ]
  },
  {
   "cell_type": "code",
   "execution_count": 21,
   "metadata": {},
   "outputs": [
    {
     "name": "stdout",
     "output_type": "stream",
     "text": [
      "Y1:\n",
      " [[  1   3]\n",
      " [ 10  30]\n",
      " [100 300]]\n",
      "\n",
      "Y2:\n",
      " [[  2]\n",
      " [ 20]\n",
      " [200]]\n"
     ]
    }
   ],
   "source": [
    "# reshape 해야함 열단위의 결합\n",
    "y1 = np.vstack([y[:,0],y[:,2]])\n",
    "y1 = y1.T\n",
    "print(\"Y1:\\n\",y1)\n",
    "\n",
    "y2 = y[:,1].reshape(3,1)\n",
    "print(\"\\nY2:\\n\",y2)"
   ]
  },
  {
   "cell_type": "markdown",
   "metadata": {},
   "source": [
    "## 3) y1과 y2를 결합하여 yy배열 생성"
   ]
  },
  {
   "cell_type": "code",
   "execution_count": 25,
   "metadata": {},
   "outputs": [
    {
     "name": "stdout",
     "output_type": "stream",
     "text": [
      "YY:\n",
      " [[  1   3   2]\n",
      " [ 10  30  20]\n",
      " [100 300 200]]\n"
     ]
    }
   ],
   "source": [
    "yy = np.vstack([y1.T,y2.T])\n",
    "yy = yy.T\n",
    "print(\"YY:\\n\",yy)"
   ]
  }
 ],
 "metadata": {
  "kernelspec": {
   "display_name": "Python 3",
   "language": "python",
   "name": "python3"
  },
  "language_info": {
   "codemirror_mode": {
    "name": "ipython",
    "version": 3
   },
   "file_extension": ".py",
   "mimetype": "text/x-python",
   "name": "python",
   "nbconvert_exporter": "python",
   "pygments_lexer": "ipython3",
   "version": "3.7.1"
  }
 },
 "nbformat": 4,
 "nbformat_minor": 2
}
