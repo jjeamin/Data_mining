{
 "cells": [
  {
   "cell_type": "markdown",
   "metadata": {},
   "source": [
    "# Numpy 배열 클래스의 예"
   ]
  },
  {
   "cell_type": "code",
   "execution_count": 2,
   "metadata": {},
   "outputs": [
    {
     "name": "stdout",
     "output_type": "stream",
     "text": [
      "**Arrays**\n",
      "a= [ 0  1  2  3  4  5  6  7  8  9 10 11 12 13 14]\n",
      "a.ndim= 1\n",
      "a.shape= (15,)\n",
      "a.dtype.name= int32\n",
      "a.itemsize= 4\n",
      "a.size= 15\n",
      "type(a)= <class 'numpy.ndarray'>\n",
      "a.reshape(3,5)= [[ 0  1  2  3  4]\n",
      " [ 5  6  7  8  9]\n",
      " [10 11 12 13 14]]\n",
      "b.ndim= 2\n",
      "b.shape= (3, 5)\n"
     ]
    }
   ],
   "source": [
    "import numpy as np\n",
    "\n",
    "a = np.arange(15)\n",
    "print(\"**Arrays**\")\n",
    "print(\"a=\",a)\n",
    "print(\"a.ndim=\",a.ndim)\n",
    "print(\"a.shape=\",a.shape)\n",
    "print(\"a.dtype.name=\",a.dtype.name)\n",
    "print(\"a.itemsize=\",a.itemsize)\n",
    "print(\"a.size=\",a.size)\n",
    "print(\"type(a)=\",type(a))\n",
    "\n",
    "b = a.reshape(3,5)\n",
    "print(\"a.reshape(3,5)=\",b)\n",
    "print(\"b.ndim=\",b.ndim)\n",
    "print(\"b.shape=\",b.shape)"
   ]
  },
  {
   "cell_type": "markdown",
   "metadata": {},
   "source": [
    "# 배열 생성"
   ]
  },
  {
   "cell_type": "code",
   "execution_count": 6,
   "metadata": {},
   "outputs": [
    {
     "name": "stdout",
     "output_type": "stream",
     "text": [
      "**Array creation**\n",
      "f1: [0.  0.4 0.8 1.2 1.6]\n",
      "f2: [0.  0.4 0.8 1.2 1.6 2. ]\n",
      "z: [[0. 0.]\n",
      " [0. 0.]]\n",
      "o: [[1. 1.]]\n",
      "c: [[7 7]\n",
      " [7 7]]\n",
      "e: [[1. 0.]\n",
      " [0. 1.]]\n",
      "r: [[0.98594495 0.78076253]\n",
      " [0.43055078 0.22163446]]\n",
      "r2: [[4. 0. 1. 4.]\n",
      " [3. 1. 2. 1.]\n",
      " [4. 3. 3. 4.]]\n",
      "a1: [2 3 4]\n",
      "a2: [[1 2 3]\n",
      " [5 6 7]]\n",
      "v1: [33, 44, 55, 66]\n",
      "v2: [66, 88, 110, 132]\n"
     ]
    }
   ],
   "source": [
    "print(\"**Array creation**\")\n",
    "f1 = np.arange(0,2,0.4)\n",
    "print(\"f1:\",f1)\n",
    "f2 = np.linspace(0,2,6)\n",
    "print(\"f2:\",f2)\n",
    "z = np.zeros((2,2))\n",
    "print(\"z:\",z)\n",
    "o = np.ones((1,2))\n",
    "print(\"o:\",o)\n",
    "c = np.full((2,2),7)\n",
    "print(\"c:\",c)\n",
    "e = np.eye(2)\n",
    "print(\"e:\",e)\n",
    "r = np.random.random((2,2))\n",
    "print(\"r:\",r)\n",
    "r2 = np.round(5*np.random.random((3,4)))\n",
    "print(\"r2:\",r2)\n",
    "a1 = np.array([2,3,4])\n",
    "print(\"a1:\",a1)\n",
    "a2 = np.array([[1,2,3],[5,6,7]])\n",
    "print(\"a2:\",a2)\n",
    "v1 = [33,44,55,66]\n",
    "print(\"v1:\",v1)\n",
    "v2 = []\n",
    "for v in v1:\n",
    "    v2.append(2*v)\n",
    "    \n",
    "print(\"v2:\",v2)"
   ]
  },
  {
   "cell_type": "markdown",
   "metadata": {},
   "source": [
    "# 배열 연산,함수"
   ]
  },
  {
   "cell_type": "code",
   "execution_count": 8,
   "metadata": {},
   "outputs": [
    {
     "name": "stdout",
     "output_type": "stream",
     "text": [
      "**Array operation**\n",
      "b =  [5 6 7 8 9]\n",
      "a + 2 =  [2 3 4 5 6]\n",
      "a ** 2 =  [ 0  1  4  9 16]\n",
      "a < 2 =  [ True  True False False False]\n",
      "a + b =  [ 5  7  9 11 13]\n",
      "max(a) =  4\n",
      "sum(a) =  35\n",
      "a.sum() =  10\n",
      "m1 =  [[1 2]\n",
      " [1 0]]\n",
      "m2 =  [[1 2]\n",
      " [3 2]]\n",
      "m1.sum(axis=0) =  [2 2]\n",
      "m1.sum(axis=1) =  [3 1]\n",
      "m1 + m2 =  [[2 4]\n",
      " [4 2]]\n",
      "m1 * m2 =  [[1 4]\n",
      " [3 0]]\n",
      "m1 @ m2 =  [[7 6]\n",
      " [1 2]]\n",
      "m1.dot(m2) =  [[7 6]\n",
      " [1 2]]\n",
      "m1 < 2 =  [[ True False]\n",
      " [ True  True]]\n",
      "B= [0 1 2]\n",
      "np.exp(B)= [1.         2.71828183 7.3890561 ]\n",
      "np.sqrt(B)= [0.         1.         1.41421356]\n",
      "C= [ 2. -1.  4.]\n",
      "np.add(B,C)= [2. 0. 6.]\n"
     ]
    }
   ],
   "source": [
    "print(\"**Array operation**\")\n",
    "a = np.arange(5)\n",
    "b = np.array([5,6,7,8,9])\n",
    "print(\"b = \",b)\n",
    "print(\"a + 2 = \",a+2)\n",
    "print(\"a ** 2 = \",a**2)\n",
    "print(\"a < 2 = \",a<2)\n",
    "print(\"a + b = \",a+b)\n",
    "print(\"max(a) = \",max(a))\n",
    "print(\"sum(a) = \",sum(b))\n",
    "print(\"a.sum() = \",a.sum())\n",
    "\n",
    "m1 = np.array([[1,2],[1,0]])\n",
    "m2 = np.array([[1,2],[3,2]])\n",
    "print(\"m1 = \",m1)\n",
    "print(\"m2 = \",m2)\n",
    "print(\"m1.sum(axis=0) = \",m1.sum(axis=0))\n",
    "print(\"m1.sum(axis=1) = \",m1.sum(axis=1))\n",
    "print(\"m1 + m2 = \",m1+m2)\n",
    "print(\"m1 * m2 = \",m1*m2)\n",
    "print(\"m1 @ m2 = \",m1 @ m2)\n",
    "print(\"m1.dot(m2) = \",m1.dot(m2))\n",
    "print(\"m1 < 2 = \",m1<2)\n",
    "\n",
    "B = np.arange(3)\n",
    "print(\"B=\",B)\n",
    "print(\"np.exp(B)=\",np.exp(B))\n",
    "print(\"np.sqrt(B)=\",np.sqrt(B))\n",
    "\n",
    "C = np.array([2.,-1.,4.])\n",
    "print(\"C=\",C)\n",
    "print(\"np.add(B,C)=\",np.add(B,C))"
   ]
  },
  {
   "cell_type": "markdown",
   "metadata": {},
   "source": [
    "# indexing slicing assigning"
   ]
  },
  {
   "cell_type": "code",
   "execution_count": 9,
   "metadata": {},
   "outputs": [
    {
     "name": "stdout",
     "output_type": "stream",
     "text": [
      "**Array indexing Slicing**\n",
      "a =  [0 1 2 3 4]\n",
      "a[0] =  0\n",
      "a[2:4] =  [2 3]\n",
      "a[:2] =  [0 1]\n",
      "a[-1] =  4\n",
      "a[1:4:2] =  [1 3]\n",
      "** index arrays **\n",
      "type(a)= <class 'numpy.ndarray'>\n",
      "i =  [1, 3, 4]\n",
      "a[i] =  [1 3 4]\n",
      "** mask index arrays **\n",
      "f =  [True, False, True, True, False]\n",
      "a[f] =  [0 2 3]\n",
      "** Assigning values **\n",
      "a =  [100  -2  -2   3   4]\n",
      "a =  [100  -2  99   3   4]\n",
      "i =  [-2 99]\n"
     ]
    }
   ],
   "source": [
    "print(\"**Array indexing Slicing**\")\n",
    "a = np.arange(5)\n",
    "print(\"a = \",a)\n",
    "print(\"a[0] = \",a[0])\n",
    "a1 = a[2:4]\n",
    "print(\"a[2:4] = \",a1)\n",
    "a2 = a[:2]\n",
    "print(\"a[:2] = \",a2)\n",
    "a3 = a[-1]\n",
    "print(\"a[-1] = \",a3)\n",
    "a4 = a[1:4:2]\n",
    "print(\"a[1:4:2] = \",a4)\n",
    "\n",
    "print(\"** index arrays **\")\n",
    "i = [1,3,4]\n",
    "a[i]\n",
    "print(\"type(a)=\",type(a))\n",
    "print(\"i = \",i)\n",
    "print(\"a[i] = \",a[i])\n",
    "\n",
    "print(\"** mask index arrays **\")\n",
    "f = [True,False,True,True,False]\n",
    "print(\"f = \",f)\n",
    "print(\"a[f] = \",a[f])\n",
    "print(\"** Assigning values **\")\n",
    "a[0] = 100\n",
    "a[1:3] = -2\n",
    "print(\"a = \", a)\n",
    "i = a[1:3]\n",
    "i[1:3] = 99\n",
    "print(\"a = \", a)\n",
    "print(\"i = \", i)"
   ]
  },
  {
   "cell_type": "markdown",
   "metadata": {},
   "source": [
    "# 2차원 indexing slicing"
   ]
  },
  {
   "cell_type": "code",
   "execution_count": 11,
   "metadata": {},
   "outputs": [
    {
     "name": "stdout",
     "output_type": "stream",
     "text": [
      "** 2차원 indexing, slicing, index arrays **\n",
      "a2 =  [[ 1  2  3  4]\n",
      " [10 20 30 40]\n",
      " [ 6  7  8  9]]\n",
      "a2[1,2] =  30\n",
      "a2[:,1] =  [ 2 20  7]\n",
      "a2[1:3,2:3] =  [[30]\n",
      " [ 8]]\n",
      "a2[1:2,:] =  [[10 20 30 40]]\n",
      "a2[-1] =  [6 7 8 9]\n",
      "a2[1,:] =  [10 20 30 40]\n",
      "a2[1, ...] =  [10 20 30 40]\n",
      "m =  [[ True  True  True  True]\n",
      " [False False False False]\n",
      " [ True  True  True  True]]\n",
      "a2[m] =  [1 2 3 4 6 7 8 9]\n",
      "** 2차원 iterator **\n",
      "[1 2 3 4]\n",
      "[10 20 30 40]\n",
      "[6 7 8 9]\n",
      "1\n",
      "2\n",
      "3\n",
      "4\n",
      "10\n",
      "20\n",
      "30\n",
      "40\n",
      "6\n",
      "7\n",
      "8\n",
      "9\n"
     ]
    }
   ],
   "source": [
    "print(\"** 2차원 indexing, slicing, index arrays **\")\n",
    "a2 = np.array([[1,2,3,4],[10,20,30,40],[6,7,8,9]])\n",
    "print(\"a2 = \",a2)\n",
    "print(\"a2[1,2] = \",a2[1,2])\n",
    "print(\"a2[:,1] = \",a2[:,1])\n",
    "print(\"a2[1:3,2:3] = \",a2[1:3,2:3])\n",
    "print(\"a2[1:2,:] = \",a2[1:2,:])\n",
    "print(\"a2[-1] = \",a2[-1])\n",
    "print(\"a2[1,:] = \",a2[1,:])\n",
    "print(\"a2[1, ...] = \",a2[1,...])\n",
    "\n",
    "m = a2 < 10\n",
    "print(\"m = \",m)\n",
    "print(\"a2[m] = \",a2[m])\n",
    "\n",
    "print(\"** 2차원 iterator **\")\n",
    "for r in a2:\n",
    "    print(r)\n",
    "    \n",
    "for e in a2.flat:\n",
    "    print(e)"
   ]
  },
  {
   "cell_type": "markdown",
   "metadata": {},
   "source": [
    "# Shape Manipulation"
   ]
  },
  {
   "cell_type": "code",
   "execution_count": 12,
   "metadata": {},
   "outputs": [
    {
     "name": "stdout",
     "output_type": "stream",
     "text": [
      "a= [[7. 4. 4. 0.]\n",
      " [9. 0. 7. 2.]\n",
      " [4. 4. 9. 5.]]\n",
      "a.shape (3, 4)\n",
      "a.ravel()= [7. 4. 4. 0. 9. 0. 7. 2. 4. 4. 9. 5.]\n",
      "a.reshape(6,2) =  [[7. 4.]\n",
      " [4. 0.]\n",
      " [9. 0.]\n",
      " [7. 2.]\n",
      " [4. 4.]\n",
      " [9. 5.]]\n",
      "a.T) =  [[7. 9. 4.]\n",
      " [4. 0. 4.]\n",
      " [4. 7. 9.]\n",
      " [0. 2. 5.]]\n",
      "a.a.T.shape =  (4, 3)\n",
      "a.reshape(2,6) =  [[7. 4. 4. 0. 9. 0.]\n",
      " [7. 2. 4. 4. 9. 5.]]\n",
      "a.reshape(2,6) =  None\n",
      "a.reshape(3,-1) =  [[7. 4. 4. 0.]\n",
      " [9. 0. 7. 2.]\n",
      " [4. 4. 9. 5.]]\n"
     ]
    }
   ],
   "source": [
    "a = np.floor(10*np.random.random((3,4)))\n",
    "print(\"a=\",a)\n",
    "print(\"a.shape\",a.shape)\n",
    "b = a.ravel()\n",
    "print(\"a.ravel()=\",b)\n",
    "c = a.reshape(6,2)\n",
    "print(\"a.reshape(6,2) = \",c)\n",
    "at = a.T\n",
    "print(\"a.T) = \",at)\n",
    "print(\"a.a.T.shape = \", a.T.shape)\n",
    "d = a.resize((2,6))\n",
    "print(\"a.reshape(2,6) = \",a)\n",
    "print(\"a.reshape(2,6) = \",d)\n",
    "e = a.reshape(3,-1)\n",
    "print(\"a.reshape(3,-1) = \",e)"
   ]
  },
  {
   "cell_type": "markdown",
   "metadata": {},
   "source": [
    "# View, Shallow copy/deep copy"
   ]
  },
  {
   "cell_type": "code",
   "execution_count": 13,
   "metadata": {},
   "outputs": [
    {
     "name": "stdout",
     "output_type": "stream",
     "text": [
      "a= [ 0  1  2  3  4  5  6  7  8  9 10 11]\n",
      "b= [ 0  1  2  3  4  5  6  7  8  9 10 11]\n",
      "b is a True\n",
      "b.shape= (3, 4)\n",
      "a.shape= (3, 4)\n",
      "a= [[ 0  1  2  3]\n",
      " [ 4  5  6  7]\n",
      " [ 8  9 10 11]]\n",
      "b= [[ 0  1  2  3]\n",
      " [ 4  5  6  7]\n",
      " [ 8  9 10 11]]\n",
      "c= [[ 0  1  2  3]\n",
      " [ 4  5  6  7]\n",
      " [ 8  9 10 11]]\n",
      "c is a False\n",
      "c.base is a= True\n",
      "c.shape= (2, 6)\n",
      "a.shape= (3, 4)\n",
      "c= [[   0    1    2    3 1234    5]\n",
      " [   6    7    8    9   10   11]]\n",
      "a= [[   0    1    2    3]\n",
      " [1234    5    6    7]\n",
      " [   8    9   10   11]]\n",
      "d= [[   0    1    2    3]\n",
      " [1234    5    6    7]\n",
      " [   8    9   10   11]]\n",
      "d is a False\n",
      "d.base is a False\n",
      "d= [[  99    1    2    3]\n",
      " [1234    5    6    7]\n",
      " [   8    9   10   11]]\n",
      "a= [[   0    1    2    3]\n",
      " [1234    5    6    7]\n",
      " [   8    9   10   11]]\n"
     ]
    }
   ],
   "source": [
    "a = np.arange(12)\n",
    "b = a\n",
    "print(\"a=\",a)\n",
    "print(\"b=\",b)\n",
    "print(\"b is a\",b is a)\n",
    "b.shape = 3,4\n",
    "print(\"b.shape=\",b.shape)\n",
    "print(\"a.shape=\",a.shape)\n",
    "print(\"a=\",a)\n",
    "print(\"b=\",b)\n",
    "\n",
    "c = a.view()\n",
    "print(\"c=\",c)\n",
    "print(\"c is a\",c is a)\n",
    "print(\"c.base is a=\",c.base is a)\n",
    "c.shape = 2,6\n",
    "c[0,4] = 1234\n",
    "print(\"c.shape=\",c.shape)\n",
    "print(\"a.shape=\",a.shape)\n",
    "print(\"c=\",c)\n",
    "print(\"a=\",a)\n",
    "\n",
    "d = a.copy()\n",
    "print(\"d=\",d)\n",
    "print(\"d is a\",d is a)\n",
    "print(\"d.base is a\",d.base is a)\n",
    "d[0,0] = 99\n",
    "print(\"d=\",d)\n",
    "print(\"a=\",a)"
   ]
  },
  {
   "cell_type": "markdown",
   "metadata": {},
   "source": [
    "# vector stacking 벡터 결합"
   ]
  },
  {
   "cell_type": "code",
   "execution_count": 15,
   "metadata": {},
   "outputs": [
    {
     "name": "stdout",
     "output_type": "stream",
     "text": [
      "x= [0 2 4 6 8]\n",
      "y= [0 1 2 3 4]\n",
      "m= [[0 2 4 6 8]\n",
      " [0 1 2 3 4]]\n",
      "xy= [0 2 4 6 8 0 1 2 3 4]\n"
     ]
    }
   ],
   "source": [
    "x = np.arange(0,10,2)\n",
    "y = np.arange(5)\n",
    "m = np.vstack([x,y])\n",
    "\n",
    "xy = np.hstack([x,y])\n",
    "\n",
    "print(\"x=\",x)\n",
    "print(\"y=\",y)\n",
    "print(\"m=\",m)\n",
    "print(\"xy=\",xy)"
   ]
  },
  {
   "cell_type": "code",
   "execution_count": null,
   "metadata": {},
   "outputs": [],
   "source": []
  }
 ],
 "metadata": {
  "kernelspec": {
   "display_name": "Python 3",
   "language": "python",
   "name": "python3"
  },
  "language_info": {
   "codemirror_mode": {
    "name": "ipython",
    "version": 3
   },
   "file_extension": ".py",
   "mimetype": "text/x-python",
   "name": "python",
   "nbconvert_exporter": "python",
   "pygments_lexer": "ipython3",
   "version": "3.5.3"
  }
 },
 "nbformat": 4,
 "nbformat_minor": 2
}
